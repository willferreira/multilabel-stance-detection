{
 "cells": [
  {
   "cell_type": "code",
   "execution_count": 1,
   "metadata": {},
   "outputs": [],
   "source": [
    "import py\n",
    "from collections import defaultdict\n",
    "import pickle\n",
    "import pandas as pd\n",
    "import numpy as np\n",
    "import seaborn as sns\n",
    "import matplotlib.pyplot as plt\n",
    "from scipy.stats import ttest_ind"
   ]
  },
  {
   "cell_type": "code",
   "execution_count": 2,
   "metadata": {},
   "outputs": [],
   "source": [
    "from utils import calc_scores, get_dataset"
   ]
  },
  {
   "cell_type": "code",
   "execution_count": 3,
   "metadata": {},
   "outputs": [],
   "source": [
    "dataset_name = 'moral-dataset-MeToo'"
   ]
  },
  {
   "cell_type": "code",
   "execution_count": 4,
   "metadata": {},
   "outputs": [],
   "source": [
    "X_train, X_test, y_train, y_test = get_dataset(dataset_name)"
   ]
  },
  {
   "cell_type": "code",
   "execution_count": 5,
   "metadata": {},
   "outputs": [
    {
     "data": {
      "text/plain": [
       "((2623, 1), (650, 1))"
      ]
     },
     "execution_count": 5,
     "metadata": {},
     "output_type": "execute_result"
    }
   ],
   "source": [
    "X_train.shape, X_test.shape"
   ]
  },
  {
   "cell_type": "code",
   "execution_count": 6,
   "metadata": {},
   "outputs": [],
   "source": [
    "with open('results/bootstrap_results_{}.pkl'.format(dataset_name), 'rb') as f:\n",
    "    results = pickle.load(f)"
   ]
  },
  {
   "cell_type": "code",
   "execution_count": 7,
   "metadata": {},
   "outputs": [
    {
     "data": {
      "text/plain": [
       "dict_keys(['mlp-cross-label-dependency', 'mlp-powerset', 'mlp-base'])"
      ]
     },
     "execution_count": 7,
     "metadata": {},
     "output_type": "execute_result"
    }
   ],
   "source": [
    "results.keys()"
   ]
  },
  {
   "cell_type": "code",
   "execution_count": 8,
   "metadata": {},
   "outputs": [],
   "source": [
    "score = 'jaccard'"
   ]
  },
  {
   "cell_type": "code",
   "execution_count": 9,
   "metadata": {},
   "outputs": [],
   "source": [
    "scores = {}\n",
    "for m, r in results.items():\n",
    "    scores[m] = [calc_scores(y_true, y_pred).loc['OVERALL', score] for (y_pred, y_true) in r]"
   ]
  },
  {
   "cell_type": "code",
   "execution_count": 10,
   "metadata": {},
   "outputs": [],
   "source": [
    "scores = pd.DataFrame(scores)"
   ]
  },
  {
   "cell_type": "code",
   "execution_count": 11,
   "metadata": {},
   "outputs": [],
   "source": [
    "cols = ['mlp-base', 'mlp-cross-label-dependency', 'mlp-powerset']\n",
    "renamer = {'mlp-base': 'MTL', 'mlp-cross-label-dependency': 'MTL-XLD', 'mlp-powerset': 'MLT-LP'}"
   ]
  },
  {
   "cell_type": "code",
   "execution_count": 12,
   "metadata": {},
   "outputs": [
    {
     "data": {
      "text/html": [
       "<div>\n",
       "<style scoped>\n",
       "    .dataframe tbody tr th:only-of-type {\n",
       "        vertical-align: middle;\n",
       "    }\n",
       "\n",
       "    .dataframe tbody tr th {\n",
       "        vertical-align: top;\n",
       "    }\n",
       "\n",
       "    .dataframe thead th {\n",
       "        text-align: right;\n",
       "    }\n",
       "</style>\n",
       "<table border=\"1\" class=\"dataframe\">\n",
       "  <thead>\n",
       "    <tr style=\"text-align: right;\">\n",
       "      <th></th>\n",
       "      <th>MTL</th>\n",
       "      <th>MTL-XLD</th>\n",
       "      <th>MLT-LP</th>\n",
       "    </tr>\n",
       "  </thead>\n",
       "  <tbody>\n",
       "    <tr>\n",
       "      <th>count</th>\n",
       "      <td>30.000000</td>\n",
       "      <td>30.000000</td>\n",
       "      <td>30.000000</td>\n",
       "    </tr>\n",
       "    <tr>\n",
       "      <th>mean</th>\n",
       "      <td>0.409189</td>\n",
       "      <td>0.487452</td>\n",
       "      <td>0.495623</td>\n",
       "    </tr>\n",
       "    <tr>\n",
       "      <th>std</th>\n",
       "      <td>0.015470</td>\n",
       "      <td>0.010175</td>\n",
       "      <td>0.009378</td>\n",
       "    </tr>\n",
       "    <tr>\n",
       "      <th>min</th>\n",
       "      <td>0.371903</td>\n",
       "      <td>0.463569</td>\n",
       "      <td>0.473374</td>\n",
       "    </tr>\n",
       "    <tr>\n",
       "      <th>25%</th>\n",
       "      <td>0.401420</td>\n",
       "      <td>0.481306</td>\n",
       "      <td>0.488796</td>\n",
       "    </tr>\n",
       "    <tr>\n",
       "      <th>50%</th>\n",
       "      <td>0.409411</td>\n",
       "      <td>0.490067</td>\n",
       "      <td>0.493258</td>\n",
       "    </tr>\n",
       "    <tr>\n",
       "      <th>75%</th>\n",
       "      <td>0.418044</td>\n",
       "      <td>0.495106</td>\n",
       "      <td>0.504107</td>\n",
       "    </tr>\n",
       "    <tr>\n",
       "      <th>max</th>\n",
       "      <td>0.437389</td>\n",
       "      <td>0.502498</td>\n",
       "      <td>0.514391</td>\n",
       "    </tr>\n",
       "  </tbody>\n",
       "</table>\n",
       "</div>"
      ],
      "text/plain": [
       "             MTL    MTL-XLD     MLT-LP\n",
       "count  30.000000  30.000000  30.000000\n",
       "mean    0.409189   0.487452   0.495623\n",
       "std     0.015470   0.010175   0.009378\n",
       "min     0.371903   0.463569   0.473374\n",
       "25%     0.401420   0.481306   0.488796\n",
       "50%     0.409411   0.490067   0.493258\n",
       "75%     0.418044   0.495106   0.504107\n",
       "max     0.437389   0.502498   0.514391"
      ]
     },
     "execution_count": 12,
     "metadata": {},
     "output_type": "execute_result"
    }
   ],
   "source": [
    "scores.loc[:, cols].rename(columns=renamer, index=renamer).describe()"
   ]
  },
  {
   "cell_type": "code",
   "execution_count": 13,
   "metadata": {},
   "outputs": [],
   "source": [
    "cols = ['mlp-base', 'mlp-cross-label-dependency', 'mlp-powerset']\n",
    "renamer = {'mlp-base': 'MTL', 'mlp-cross-label-dependency': 'MTL-XLD', 'mlp-powerset': 'MTL-LP'}"
   ]
  },
  {
   "cell_type": "code",
   "execution_count": 14,
   "metadata": {},
   "outputs": [
    {
     "data": {
      "image/png": "[encoded data removed]",
      "text/plain": [
       "<Figure size 432x288 with 1 Axes>"
      ]
     },
     "metadata": {
      "needs_background": "light"
     },
     "output_type": "display_data"
    }
   ],
   "source": [
    "_ = scores.loc[:, cols].rename(columns=renamer, index=renamer).plot.kde(figsize=(6, 4), ylim=(0, 50))\n",
    "plt.tight_layout()\n",
    "plt.savefig('bbc-bootstrap.jpg', bbox_inches = \"tight\")"
   ]
  },
  {
   "cell_type": "code",
   "execution_count": 15,
   "metadata": {},
   "outputs": [
    {
     "data": {
      "text/html": [
       "<div>\n",
       "<style scoped>\n",
       "    .dataframe tbody tr th:only-of-type {\n",
       "        vertical-align: middle;\n",
       "    }\n",
       "\n",
       "    .dataframe tbody tr th {\n",
       "        vertical-align: top;\n",
       "    }\n",
       "\n",
       "    .dataframe thead th {\n",
       "        text-align: right;\n",
       "    }\n",
       "</style>\n",
       "<table border=\"1\" class=\"dataframe\">\n",
       "  <thead>\n",
       "    <tr style=\"text-align: right;\">\n",
       "      <th></th>\n",
       "      <th>mlp-cross-label-dependency</th>\n",
       "      <th>mlp-powerset</th>\n",
       "      <th>mlp-base</th>\n",
       "    </tr>\n",
       "  </thead>\n",
       "  <tbody>\n",
       "    <tr>\n",
       "      <th>mlp-cross-label-dependency</th>\n",
       "      <td>1</td>\n",
       "      <td>0.0020197</td>\n",
       "      <td>1.99815e-28</td>\n",
       "    </tr>\n",
       "    <tr>\n",
       "      <th>mlp-powerset</th>\n",
       "      <td>0.0020197</td>\n",
       "      <td>1</td>\n",
       "      <td>5.62195e-30</td>\n",
       "    </tr>\n",
       "    <tr>\n",
       "      <th>mlp-base</th>\n",
       "      <td>1.99815e-28</td>\n",
       "      <td>5.62195e-30</td>\n",
       "      <td>1</td>\n",
       "    </tr>\n",
       "  </tbody>\n",
       "</table>\n",
       "</div>"
      ],
      "text/plain": [
       "                           mlp-cross-label-dependency mlp-powerset  \\\n",
       "mlp-cross-label-dependency                          1    0.0020197   \n",
       "mlp-powerset                                0.0020197            1   \n",
       "mlp-base                                  1.99815e-28  5.62195e-30   \n",
       "\n",
       "                               mlp-base  \n",
       "mlp-cross-label-dependency  1.99815e-28  \n",
       "mlp-powerset                5.62195e-30  \n",
       "mlp-base                              1  "
      ]
     },
     "execution_count": 15,
     "metadata": {},
     "output_type": "execute_result"
    }
   ],
   "source": [
    "welch_test = pd.DataFrame(index=scores.columns, columns=scores.columns)\n",
    "for i, j in zip(*np.triu_indices(scores.shape[1])):\n",
    "    welch_test.iloc[i, j] = welch_test.iloc[j, i] = ttest_ind(scores.iloc[:, i], scores.iloc[:, j], equal_var=False)[1]\n",
    "welch_test"
   ]
  },
  {
   "cell_type": "code",
   "execution_count": 16,
   "metadata": {},
   "outputs": [
    {
     "data": {
      "text/html": [
       "<div>\n",
       "<style scoped>\n",
       "    .dataframe tbody tr th:only-of-type {\n",
       "        vertical-align: middle;\n",
       "    }\n",
       "\n",
       "    .dataframe tbody tr th {\n",
       "        vertical-align: top;\n",
       "    }\n",
       "\n",
       "    .dataframe thead th {\n",
       "        text-align: right;\n",
       "    }\n",
       "</style>\n",
       "<table border=\"1\" class=\"dataframe\">\n",
       "  <thead>\n",
       "    <tr style=\"text-align: right;\">\n",
       "      <th></th>\n",
       "      <th>MTL</th>\n",
       "      <th>MTL-XLD</th>\n",
       "      <th>MLT-LP</th>\n",
       "    </tr>\n",
       "  </thead>\n",
       "  <tbody>\n",
       "    <tr>\n",
       "      <th>MTL</th>\n",
       "      <td>1</td>\n",
       "      <td>1.99815e-28</td>\n",
       "      <td>5.62195e-30</td>\n",
       "    </tr>\n",
       "    <tr>\n",
       "      <th>MTL-XLD</th>\n",
       "      <td>1.99815e-28</td>\n",
       "      <td>1</td>\n",
       "      <td>0.0020197</td>\n",
       "    </tr>\n",
       "    <tr>\n",
       "      <th>MLT-LP</th>\n",
       "      <td>5.62195e-30</td>\n",
       "      <td>0.0020197</td>\n",
       "      <td>1</td>\n",
       "    </tr>\n",
       "  </tbody>\n",
       "</table>\n",
       "</div>"
      ],
      "text/plain": [
       "                 MTL      MTL-XLD       MLT-LP\n",
       "MTL                1  1.99815e-28  5.62195e-30\n",
       "MTL-XLD  1.99815e-28            1    0.0020197\n",
       "MLT-LP   5.62195e-30    0.0020197            1"
      ]
     },
     "execution_count": 16,
     "metadata": {},
     "output_type": "execute_result"
    }
   ],
   "source": [
    "renamer = {'mlp-base': 'MTL', 'mlp-cross-label-dependency': 'MTL-XLD', 'mlp-powerset': 'MLT-LP'}\n",
    "welch_test.loc[cols, cols].rename(columns=renamer, index=renamer)"
   ]
  },
  {
   "cell_type": "code",
   "execution_count": null,
   "metadata": {},
   "outputs": [],
   "source": []
  }
 ],
 "metadata": {
  "kernelspec": {
   "display_name": "Python 3",
   "language": "python",
   "name": "python3"
  },
  "language_info": {
   "codemirror_mode": {
    "name": "ipython",
    "version": 3
   },
   "file_extension": ".py",
   "mimetype": "text/x-python",
   "name": "python",
   "nbconvert_exporter": "python",
   "pygments_lexer": "ipython3",
   "version": "3.6.8"
  }
 },
 "nbformat": 4,
 "nbformat_minor": 2
}
